{
 "cells": [
  {
   "cell_type": "code",
   "execution_count": 78,
   "metadata": {},
   "outputs": [],
   "source": [
    "import pandas as pd\n",
    "import numpy as np\n",
    "\n",
    "# Exemple de structure de votre dataset\n",
    "data = pd.read_csv(\"Citations_faciles.csv\")\n",
    "\n",
    "proportions = data['Personnage'].value_counts(normalize=True).reset_index()\n",
    "\n",
    "#On enlève les lignes avec des nom en minuscule car un bug en fait apparître\n",
    "#proportions = proportions[proportions['Personnage'].str.isupper()]\n",
    "\n",
    "proportions.reset_index(drop=True, inplace=True)\n",
    "\n",
    "Personnage_pondéré = proportions\n",
    "\n",
    "Personnage_pondéré.to_csv(\"Personnages_pondéré_faciles.csv\")"
   ]
  }
 ],
 "metadata": {
  "kernelspec": {
   "display_name": "Python 3",
   "language": "python",
   "name": "python3"
  },
  "language_info": {
   "codemirror_mode": {
    "name": "ipython",
    "version": 3
   },
   "file_extension": ".py",
   "mimetype": "text/x-python",
   "name": "python",
   "nbconvert_exporter": "python",
   "pygments_lexer": "ipython3",
   "version": "3.12.3"
  }
 },
 "nbformat": 4,
 "nbformat_minor": 2
}
