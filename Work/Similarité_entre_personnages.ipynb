{
 "cells": [
  {
   "cell_type": "code",
   "execution_count": null,
   "metadata": {},
   "outputs": [],
   "source": [
    "import pandas as pd\n",
    "from sentence_transformers import SentenceTransformer\n",
    "from sklearn.metrics.pairwise import cosine_similarity\n",
    "\n",
    "df = pd.read_csv(\"Kaamelott_Repliques_Livres1_à_3.csv\")\n",
    "\n",
    "personnage_texts = df.groupby(\"Personnage\")[\"Réplique\"].apply(\" \".join).reset_index()\n",
    "personnage_texts.columns = [\"Personnage\", \"Textes\"]\n",
    "\n",
    "model = SentenceTransformer('all-MiniLM-L6-v2')  # Modèle d'embedding\n",
    "personnage_texts[\"Embedding\"] = list(model.encode(personnage_texts[\"Textes\"]))\n",
    "\n",
    "# 3. Calcul de la matrice de similarité\n",
    "embeddings = list(personnage_texts[\"Embedding\"])\n",
    "similarity_matrix = cosine_similarity(embeddings)\n",
    "\n",
    "similarity_df = pd.DataFrame(\n",
    "    similarity_matrix,\n",
    "    index=personnage_texts[\"Personnage\"],\n",
    "    columns=personnage_texts[\"Personnage\"]\n",
    ")\n",
    "\n",
    "# Affichage du résultat\n",
    "similarity_df\n",
    "\n",
    "#test\n",
    "#test2"
   ]
  }
 ],
 "metadata": {
  "kernelspec": {
   "display_name": "Python 3",
   "language": "python",
   "name": "python3"
  },
  "language_info": {
   "codemirror_mode": {
    "name": "ipython",
    "version": 3
   },
   "file_extension": ".py",
   "mimetype": "text/x-python",
   "name": "python",
   "nbconvert_exporter": "python",
   "pygments_lexer": "ipython3",
   "version": "3.12.3"
  }
 },
 "nbformat": 4,
 "nbformat_minor": 2
}
