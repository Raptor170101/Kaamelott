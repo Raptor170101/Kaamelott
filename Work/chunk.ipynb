{
 "cells": [
  {
   "cell_type": "code",
   "execution_count": 4,
   "metadata": {},
   "outputs": [
    {
     "name": "stdout",
     "output_type": "stream",
     "text": [
      "Le fichier a été divisé en 100 parties dans le dossier courant.\n"
     ]
    }
   ],
   "source": [
    "# Lire le contenu du fichier\n",
    "with open(\"Kaamelott.txt\", \"r\", encoding=\"utf-8\") as file:\n",
    "    content = file.read()\n",
    "\n",
    "# Diviser le contenu en 300 parties\n",
    "num_parts = 100\n",
    "part_size = len(content) // num_parts\n",
    "\n",
    "# Créer et enregistrer les parties\n",
    "for i in range(num_parts):\n",
    "    start = i * part_size\n",
    "    end = start + part_size if i < num_parts - 1 else len(content)  # S'assurer que la dernière partie contient tout le reste\n",
    "    part_content = content[start:end]\n",
    "    \n",
    "    # Enregistrer chaque partie dans un fichier séparé dans le dossier courant\n",
    "    with open(f\"{i + 1}.txt\", \"w\", encoding=\"utf-8\") as part_file:\n",
    "        part_file.write(part_content)\n",
    "\n",
    "print(f\"Le fichier a été divisé en {num_parts} parties dans le dossier courant.\")\n"
   ]
  }
 ],
 "metadata": {
  "kernelspec": {
   "display_name": "Python 3",
   "language": "python",
   "name": "python3"
  },
  "language_info": {
   "codemirror_mode": {
    "name": "ipython",
    "version": 3
   },
   "file_extension": ".py",
   "mimetype": "text/x-python",
   "name": "python",
   "nbconvert_exporter": "python",
   "pygments_lexer": "ipython3",
   "version": "3.12.3"
  }
 },
 "nbformat": 4,
 "nbformat_minor": 2
}
